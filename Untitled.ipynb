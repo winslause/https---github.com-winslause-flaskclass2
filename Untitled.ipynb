{
 "cells": [
  {
   "cell_type": "code",
   "execution_count": 1,
   "id": "37c9a9ba",
   "metadata": {},
   "outputs": [
    {
     "name": "stdout",
     "output_type": "stream",
     "text": [
      "   target_column  ranking_column  rank\n",
      "0              1              10   1.0\n",
      "1              2               9   1.0\n",
      "2              3               8   1.0\n",
      "3              2               7   2.0\n",
      "4              1               6   2.0\n"
     ]
    }
   ],
   "source": [
    "\n",
    "import pandas as pd\n",
    "\n",
    "def rank_by_column(df, target_column, ranking_column):\n",
    "  \"\"\"Ranks values within groups based on another column in descending order.\n",
    "\n",
    "  Args:\n",
    "    df: The Pandas DataFrame to rank.\n",
    "    target_column: The column used to group values for ranking.\n",
    "    ranking_column: The column containing the values to be ranked.\n",
    "\n",
    "  Returns:\n",
    "    A DataFrame with a new 'rank' column containing the ranking within each group.\n",
    "  \"\"\"\n",
    "\n",
    "  df[\"rank\"] = df.groupby(target_column)[ranking_column].rank(ascending=False)\n",
    "  return df\n",
    "\n",
    "# Example usage:\n",
    "df = pd.DataFrame({'target_column': [1, 2, 3, 2, 1], 'ranking_column': [10, 9, 8, 7, 6]})\n",
    "result = rank_by_column(df.copy(), 'target_column', 'ranking_column')\n",
    "print(result)\n"
   ]
  },
  {
   "cell_type": "code",
   "execution_count": 2,
   "id": "6f7295f3",
   "metadata": {},
   "outputs": [
    {
     "name": "stdout",
     "output_type": "stream",
     "text": [
      "[5, 1, 3, 2, 4]\n"
     ]
    }
   ],
   "source": [
    "\n",
    "def rank_by_highest_value(values):\n",
    "    # Sort values in descending order while keeping track of original indices\n",
    "    sorted_indices = sorted(range(len(values)), key=lambda k: values[k], reverse=True)\n",
    "\n",
    "    # Create an empty ranking list of the same length as values\n",
    "    ranking = [0] * len(values)\n",
    "\n",
    "    # Assign ranks based on the order in sorted_indices\n",
    "    for rank, index in enumerate(sorted_indices, 1):\n",
    "        ranking[index] = rank\n",
    "\n",
    "    return ranking\n",
    "\n",
    "# Test\n",
    "scores = [50, 90, 80, 90, 60]\n",
    "print(rank_by_highest_value(scores))\n"
   ]
  },
  {
   "cell_type": "code",
   "execution_count": null,
   "id": "9d07e449",
   "metadata": {},
   "outputs": [],
   "source": []
  }
 ],
 "metadata": {
  "kernelspec": {
   "display_name": "Python 3 (ipykernel)",
   "language": "python",
   "name": "python3"
  },
  "language_info": {
   "codemirror_mode": {
    "name": "ipython",
    "version": 3
   },
   "file_extension": ".py",
   "mimetype": "text/x-python",
   "name": "python",
   "nbconvert_exporter": "python",
   "pygments_lexer": "ipython3",
   "version": "3.9.12"
  }
 },
 "nbformat": 4,
 "nbformat_minor": 5
}
